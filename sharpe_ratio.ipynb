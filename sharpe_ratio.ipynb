{
 "cells": [
  {
   "cell_type": "code",
   "execution_count": 2,
   "id": "d81f485b-8cf0-4364-b156-311bed9c2eec",
   "metadata": {},
   "outputs": [
    {
     "name": "stdout",
     "output_type": "stream",
     "text": [
      "\n",
      "下载的二进制程序包在\n",
      "\t/var/folders/23/2pq3q16d1nn_mvwz51ct825w0000gq/T//Rtmpb228yQ/downloaded_packages里\n"
     ]
    },
    {
     "name": "stderr",
     "output_type": "stream",
     "text": [
      "Warning message in download.file(url, destfile, method, mode = \"wb\", ...):\n",
      "“downloaded length 2145125 != reported length 2293093”\n",
      "Warning message in download.file(url, destfile, method, mode = \"wb\", ...):\n",
      "“URL 'https://cran.r-project.org/bin/macosx/big-sur-arm64/contrib/4.4/PerformanceAnalytics_2.0.8.tgz': Timeout of 60 seconds was reached”\n"
     ]
    },
    {
     "name": "stdout",
     "output_type": "stream",
     "text": [
      "Error in download.file(url, destfile, method, mode = \"wb\", ...) : \n",
      "  download from 'https://cran.r-project.org/bin/macosx/big-sur-arm64/contrib/4.4/PerformanceAnalytics_2.0.8.tgz' failed\n"
     ]
    },
    {
     "name": "stderr",
     "output_type": "stream",
     "text": [
      "Warning message in download.packages(pkgs, destdir = tmpd, available = available, :\n",
      "“下载程序包‘PerformanceAnalytics’时出了问题”\n"
     ]
    }
   ],
   "source": [
    "install.packages(\"tidyquant\")\n",
    "install.packages(\"PerformanceAnalytics\")"
   ]
  },
  {
   "cell_type": "code",
   "execution_count": 2,
   "id": "6cbf6a7c-900b-4475-925b-7a995b669820",
   "metadata": {},
   "outputs": [
    {
     "name": "stderr",
     "output_type": "stream",
     "text": [
      "Registered S3 method overwritten by 'quantmod':\n",
      "  method            from\n",
      "  as.zoo.data.frame zoo \n",
      "\n",
      "── \u001b[1mAttaching core tidyquant packages\u001b[22m ─────────────────────────────────────────────────── tidyquant 1.0.11 ──\n",
      "\u001b[32m✔\u001b[39m \u001b[34mPerformanceAnalytics\u001b[39m 2.0.8      \u001b[32m✔\u001b[39m \u001b[34mTTR                 \u001b[39m 0.24.4\n",
      "\u001b[32m✔\u001b[39m \u001b[34mquantmod            \u001b[39m 0.4.26     \u001b[32m✔\u001b[39m \u001b[34mxts                 \u001b[39m 0.14.1\n",
      "── \u001b[1mConflicts\u001b[22m ────────────────────────────────────────────────────────────────────── tidyquant_conflicts() ──\n",
      "\u001b[31m✖\u001b[39m \u001b[34mzoo\u001b[39m::\u001b[32mas.Date()\u001b[39m                 masks \u001b[34mbase\u001b[39m::as.Date()\n",
      "\u001b[31m✖\u001b[39m \u001b[34mzoo\u001b[39m::\u001b[32mas.Date.numeric()\u001b[39m         masks \u001b[34mbase\u001b[39m::as.Date.numeric()\n",
      "\u001b[31m✖\u001b[39m \u001b[34mPerformanceAnalytics\u001b[39m::\u001b[32mlegend()\u001b[39m masks \u001b[34mgraphics\u001b[39m::legend()\n",
      "\u001b[31m✖\u001b[39m \u001b[34mquantmod\u001b[39m::\u001b[32msummary()\u001b[39m            masks \u001b[34mbase\u001b[39m::summary()\n",
      "\u001b[36mℹ\u001b[39m Use the conflicted package (\u001b[3m\u001b[34m<http://conflicted.r-lib.org/>\u001b[39m\u001b[23m) to force all conflicts to become errors\n",
      "\n",
      "######################### Warning from 'xts' package ##########################\n",
      "#                                                                             #\n",
      "# The dplyr lag() function breaks how base R's lag() function is supposed to  #\n",
      "# work, which breaks lag(my_xts). Calls to lag(my_xts) that you type or       #\n",
      "# source() into this session won't work correctly.                            #\n",
      "#                                                                             #\n",
      "# Use stats::lag() to make sure you're not using dplyr::lag(), or you can add #\n",
      "# conflictRules('dplyr', exclude = 'lag') to your .Rprofile to stop           #\n",
      "# dplyr from breaking base R's lag() function.                                #\n",
      "#                                                                             #\n",
      "# Code in packages is not affected. It's protected by R's namespace mechanism #\n",
      "# Set `options(xts.warn_dplyr_breaks_lag = FALSE)` to suppress this warning.  #\n",
      "#                                                                             #\n",
      "###############################################################################\n",
      "\n",
      "\n",
      "载入程序包：‘dplyr’\n",
      "\n",
      "\n",
      "The following objects are masked from ‘package:xts’:\n",
      "\n",
      "    first, last\n",
      "\n",
      "\n",
      "The following objects are masked from ‘package:stats’:\n",
      "\n",
      "    filter, lag\n",
      "\n",
      "\n",
      "The following objects are masked from ‘package:base’:\n",
      "\n",
      "    intersect, setdiff, setequal, union\n",
      "\n",
      "\n"
     ]
    },
    {
     "name": "stdout",
     "output_type": "stream",
     "text": [
      "--- 正在下载  QQQ  从  2023-01-01  到  2025-10-25  的数据... ---\n"
     ]
    },
    {
     "name": "stderr",
     "output_type": "stream",
     "text": [
      "Warning message:\n",
      "“x = 'QQQ', get = 'stock.prices': Error in getSymbols.yahoo(Symbols = \"QQQ\", env = <environment>, verbose = FALSE, : Unable to import “QQQ”.\n",
      "无法打开链结\n",
      "”\n"
     ]
    },
    {
     "name": "stdout",
     "output_type": "stream",
     "text": [
      "[1] NA\n",
      "[1] NA\n",
      "\n",
      "--- 正在计算每日对数回报率... ---\n"
     ]
    },
    {
     "ename": "ERROR",
     "evalue": "Error in tq_transmute_.default(data = data, select = lazyeval::expr_text(select), : data must be a tibble or data.frame object\n",
     "output_type": "error",
     "traceback": [
      "Error in tq_transmute_.default(data = data, select = lazyeval::expr_text(select), : data must be a tibble or data.frame object\nTraceback:\n",
      "1. tq_transmute(., select = adjusted, mutate_fun = periodReturn, \n .     period = \"daily\", type = \"log\", col_rename = \"log.returns\")",
      "2. tq_transmute_(data = data, select = lazyeval::expr_text(select), \n .     mutate_fun = lazyeval::expr_text(mutate_fun), col_rename = col_rename, \n .     ... = ...)",
      "3. tq_transmute_.default(data = data, select = lazyeval::expr_text(select), \n .     mutate_fun = lazyeval::expr_text(mutate_fun), col_rename = col_rename, \n .     ... = ...)",
      "4. stop(\"data must be a tibble or data.frame object\")",
      "5. .handleSimpleError(function (cnd) \n . {\n .     watcher$capture_plot_and_output()\n .     cnd <- sanitize_call(cnd)\n .     watcher$push(cnd)\n .     switch(on_error, continue = invokeRestart(\"eval_continue\"), \n .         stop = invokeRestart(\"eval_stop\"), error = invokeRestart(\"eval_error\", \n .             cnd))\n . }, \"data must be a tibble or data.frame object\", base::quote(tq_transmute_.default(data = data, \n .     select = lazyeval::expr_text(select), mutate_fun = lazyeval::expr_text(mutate_fun), \n .     col_rename = col_rename, ... = ...)))"
     ]
    }
   ],
   "source": [
    "# --- 步骤 1: 加载必要的 R 包 ---\n",
    "library(tidyquant)\n",
    "library(PerformanceAnalytics)\n",
    "library(dplyr)\n",
    "\n",
    "# --- 步骤 2: 定义分析参数 ---\n",
    "ticker_symbol     <- \"QQQ\"\n",
    "start_date        <- \"2023-01-01\"\n",
    "end_date          <- Sys.Date()\n",
    "annual_risk_free_rate <- 0.02  # 年化无风险利率 (2%)\n",
    "trading_days_per_year <- 252   # 年化因子\n",
    "\n",
    "\n",
    "# 将年化无风险利率转换为日度无风险利率，以匹配我们的日度回报率数据\n",
    "daily_risk_free_rate <- annual_risk_free_rate / trading_days_per_year\n",
    "\n",
    "\n",
    "# --- 步骤 3: 从雅虎财经获取历史价格数据 ---\n",
    "cat(\"--- 正在下载 \", ticker_symbol, \" 从 \", start_date, \" 到 \", format(end_date, \"%Y-%m-%d\"), \" 的数据... ---\\n\")\n",
    "qqq_prices <- tq_get(ticker_symbol, \n",
    "                     from = start_date, \n",
    "                     to = end_date)\n",
    "\n",
    "print(head(qqq_prices))\n",
    "print(tail(qqq_prices))\n",
    "\n",
    "# --- 步骤 4: 计算每日回报率 ---\n",
    "cat(\"\\n--- 正在计算每日对数回报率... ---\\n\")\n",
    "qqq_returns <- qqq_prices %>%\n",
    "  tq_transmute(select     = adjusted, \n",
    "               mutate_fun = periodReturn, \n",
    "               period     = \"daily\", \n",
    "               type       = \"log\",\n",
    "               col_rename = \"log.returns\")\n",
    "\n",
    "# --- 步骤 5: 将数据转换为 XTS 格式 ---\n",
    "cat(\"\\n--- 正在将数据框转换为 XTS 时间序列对象... ---\\n\")\n",
    "qqq_returns_xts <- tk_xts(qqq_returns, \n",
    "                          select   = log.returns, \n",
    "                          date_var = date)\n",
    "print(qqq_returns_xts)\n",
    "# --- 步骤 6: 计算年化夏普比率 ---\n",
    "cat(\"\\n--- 正在计算年化夏普比率 (年化无风险利率 = \", annual_risk_free_rate * 100, \"%)... ---\\n\")\n",
    "annualized_sharpe_ratio <- SharpeRatio.annualized(qqq_returns_xts, \n",
    "                                                  Rf = daily_risk_free_rate, # 使用正确的日度利率\n",
    "                                                  scale = trading_days_per_year)\n",
    "\n",
    "# --- 步骤 7: 打印最终结果 ---\n",
    "cat(\"\\n======================================================\\n\")\n",
    "cat(\"                最终分析结果\\n\")\n",
    "cat(\"======================================================\\n\")\n",
    "print(paste(\"分析标的:\", ticker_symbol))\n",
    "print(paste(\"时间范围:\", start_date, \"至\", format(end_date, \"%Y-%m-%d\")))\n",
    "print(paste(\"年化无风险利率:\", annual_risk_free_rate * 100, \"%\"))\n",
    "cat(\"------------------------------------------------------\\n\")\n",
    "print(annualized_sharpe_ratio)\n",
    "cat(\"======================================================\\n\")"
   ]
  },
  {
   "cell_type": "markdown",
   "id": "bb72e674-c8cd-435e-a5ce-61ef5c87f218",
   "metadata": {},
   "source": [
    "### 接下来做什么？解读 1.44 的意义\n",
    "\n",
    "现在我们有了这个可靠的数字，我们可以来解读它了！\n",
    "\n",
    "* 夏普比率是什么？ 它衡量的是“风险调整后回报”。简单来说，它回答了这样一个问题：“我每承担一单位的风险（波动性），能获得多少超越无风险利率的回报？”\n",
    "* 1.44 是好是坏？\n",
    "  - 夏普比率 > 1 通常被认为是良好的。\n",
    "  - 夏普比率 > 2 通常被认为是非常好的。\n",
    "  - 夏普比率 > 3 通常被认为是卓越的。\n",
    "\n",
    "所以，在 2023-01-01 至 2025-08-20 这个时间段内，QQQ 表现出了良好的风险调整后回报。"
   ]
  },
  {
   "cell_type": "code",
   "execution_count": null,
   "id": "9ff42de6-5595-4266-93d4-a18ab4801171",
   "metadata": {},
   "outputs": [],
   "source": [
    "library(showtext) \n",
    "library(sysfonts)\n",
    "\n",
    "font_add_google(\"Noto Sans SC\", \"NotoSansSC\") # 从 Google Fonts 下载并添加思源黑体（简体中文）\n",
    "showtext_auto()\n",
    "theme_set(theme_minimal(base_family = \"NotoSansSC\", base_size = 12)) "
   ]
  },
  {
   "cell_type": "markdown",
   "id": "354a2eef-f881-4d7a-b33c-f5fdca7d7846",
   "metadata": {},
   "source": [
    "### 获取 A 股数据\n",
    "\n",
    "\n",
    "* 上海证券交易所 (Shanghai Stock Exchange): 在 6 位代码后加上 `.SS`\n",
    "* 深圳证券交易所 (Shenzhen Stock Exchange): 在 6 位代码后加上 `.SZ`\n"
   ]
  },
  {
   "cell_type": "code",
   "execution_count": null,
   "id": "85c6e5ed-290a-4ae5-93bb-1a6295ee40de",
   "metadata": {},
   "outputs": [],
   "source": [
    "# 加载必要的包\n",
    "library(tidyquant)\n",
    "library(ggplot2)\n",
    "library(dplyr)\n",
    "\n",
    "# 定义我们要获取的 A 股股票代码 (使用雅虎财经格式)\n",
    "a_share_tickers <- c(\"600519.SS\", \"000858.SZ\")\n",
    "\n",
    "# 定义时间范围\n",
    "start_date <- \"2023-01-01\"\n",
    "end_date <- Sys.Date()\n",
    "\n",
    "# 使用 tq_get() 获取数据\n",
    "cat(\"--- 正在从雅虎财经下载 A 股数据... ---\\n\")\n",
    "a_share_prices <- tq_get(a_share_tickers,\n",
    "                         from = start_date,\n",
    "                         to = end_date)\n",
    "\n",
    "# 查看一下下载的数据结构\n",
    "print(head(a_share_prices))\n",
    "print(tail(a_share_prices))\n",
    "\n",
    "# 使用 ggplot2 可视化收盘价走势\n",
    "cat(\"\\n--- 正在生成股价走势图... ---\\n\")\n",
    "a_share_prices %>%\n",
    "  # 我们给股票代码起个更友好的名字\n",
    "  mutate(company = case_when(\n",
    "    symbol == \"600519.SS\" ~ \"贵州茅台 (Kweichow Moutai)\",\n",
    "    symbol == \"000858.SZ\" ~ \"五粮液 (Wuliangye)\",\n",
    "    TRUE ~ symbol\n",
    "  )) %>%\n",
    "  ggplot(aes(x = date, y = close, color = company)) +\n",
    "  geom_line(linewidth = 1) +\n",
    "  labs(\n",
    "    title = \"中国 A 股股价走势\",\n",
    "    subtitle = paste(\"从\", start_date, \"到\", format(end_date, \"%Y-%m-%d\")),\n",
    "    x = \"日期 (Date)\",\n",
    "    y = \"收盘价 (RMB)\",\n",
    "    color = \"公司 (Company)\"\n",
    "  ) +\n",
    "  theme_tq() +\n",
    "  scale_color_tq()"
   ]
  },
  {
   "cell_type": "markdown",
   "id": "55b95478-e7ab-4df2-90db-f39124aa2c9a",
   "metadata": {},
   "source": [
    "## 获取 A 股大盘指数\n",
    "\n",
    "\n",
    "* 上证综合指数 (SSE Composite Index): `000001.SS`\n",
    "* 深证成份指数 (SZSE Component Index): `399001.SZ`\n",
    "* 沪深300指数 (CSI 300 Index): `000300.SS`\n"
   ]
  },
  {
   "cell_type": "code",
   "execution_count": null,
   "id": "e75762f7-3f66-49a7-bc0d-14d591920145",
   "metadata": {},
   "outputs": [],
   "source": [
    "shanghai_composite <- tq_get(\"000300.SS\", from = \"2023-01-01\")\n",
    "print(head(shanghai_composite))\n",
    "print(tail(shanghai_composite))"
   ]
  },
  {
   "cell_type": "code",
   "execution_count": null,
   "id": "8bf43712-5ea9-4920-aae4-631cbc50b47a",
   "metadata": {},
   "outputs": [],
   "source": [
    "library(tidyquant)\n",
    "library(ggplot2)\n",
    "library(dplyr)\n",
    "\n",
    "# 定义我们要获取的 A 股股票代码 (使用雅虎财经格式)\n",
    "a_share_tickers <- c(\"000001.SS\", \"399001.SZ\", \"000300.SS\")\n",
    "\n",
    "# 定义时间范围\n",
    "start_date <- \"2023-01-01\"\n",
    "end_date <- Sys.Date()\n",
    "\n",
    "# 使用 tq_get() 获取数据\n",
    "cat(\"--- 正在从雅虎财经下载 A 股数据... ---\\n\")\n",
    "a_share_prices <- tq_get(a_share_tickers,\n",
    "                         from = start_date,\n",
    "                         to = end_date)\n",
    "\n",
    "# 查看一下下载的数据结构\n",
    "print(head(a_share_prices))\n",
    "print(tail(a_share_prices))\n",
    "\n",
    "# 使用 ggplot2 可视化收盘价走势\n",
    "cat(\"\\n--- 正在生成股价走势图... ---\\n\")\n",
    "a_share_prices %>%\n",
    "  # 我们给股票代码起个更友好的名字\n",
    "  mutate(company = case_when(\n",
    "    symbol == \"000001.SS\" ~ \"上证综指\",\n",
    "    symbol == \"399001.SZ\" ~ \"深证成指\",\n",
    "    symbol == \"000300.SS\" ~ \"沪深300\",\n",
    "    TRUE ~ symbol\n",
    "  )) %>%\n",
    "  ggplot(aes(x = date, y = close, color = company)) +\n",
    "  geom_line(linewidth = 1) +\n",
    "  labs(\n",
    "    title = \"中国 A 股股价走势\",\n",
    "    subtitle = paste(\"从\", start_date, \"到\", format(end_date, \"%Y-%m-%d\")),\n",
    "    x = \"日期 (Date)\",\n",
    "    y = \"收盘价 (RMB)\",\n",
    "    color = \"公司 (Company)\"\n",
    "  ) +\n",
    "  theme_tq() +\n",
    "  scale_color_tq()"
   ]
  },
  {
   "cell_type": "code",
   "execution_count": null,
   "id": "9981bd2f-7883-43a0-b04f-a032017bda06",
   "metadata": {},
   "outputs": [],
   "source": []
  }
 ],
 "metadata": {
  "kernelspec": {
   "display_name": "R",
   "language": "R",
   "name": "ir"
  },
  "language_info": {
   "codemirror_mode": "r",
   "file_extension": ".r",
   "mimetype": "text/x-r-source",
   "name": "R",
   "pygments_lexer": "r",
   "version": "4.4.2"
  }
 },
 "nbformat": 4,
 "nbformat_minor": 5
}
