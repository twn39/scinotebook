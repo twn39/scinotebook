{
 "cells": [
  {
   "cell_type": "markdown",
   "metadata": {},
   "source": [
    "## 网络请求\n",
    "\n",
    "最简单的网络请求，发送一个 GET 请求"
   ]
  },
  {
   "cell_type": "code",
   "execution_count": 2,
   "metadata": {},
   "outputs": [
    {
     "data": {
      "text/html": [
       "<div><img alt=\"Output\" src=\"data:image/png;base64,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\"></div>"
      ],
      "text/plain": [
       "HTTPResponse[ByteArray[<90>], <|Headers -> \n",
       " \n",
       ">     {{Server, openresty/1.15.8.2}, {Content-Type, Application/json;charset=utf-8}, \n",
       " \n",
       ">      {Transfer-Encoding, chunked}, {Connection, keep-alive}, {Vary, Accept-Encoding}, \n",
       " \n",
       ">      {X-Powered-By, PHP/7.3.15}, {Cache-Control, no-cache, private}, \n",
       " \n",
       ">      {Date, Wed, 26 Feb 2020 13:03:16 GMT}, {X-Robots-Tag, noindex}, \n",
       " \n",
       ">      {Content-Encoding, gzip}}, StatusCode -> 200, Cookies -> {}|>, \n",
       " \n",
       ">   CharacterEncoding -> Automatic]"
      ]
     },
     "execution_count": 2,
     "metadata": {
      "text/html": [],
      "text/plain": []
     },
     "output_type": "execute_result"
    }
   ],
   "source": [
    "response = HTTPRequest[\"http://poetry.lightfly.cn\"] // URLRead"
   ]
  },
  {
   "cell_type": "code",
   "execution_count": 3,
   "metadata": {},
   "outputs": [
    {
     "data": {
      "text/html": [
       "<div><img alt=\"Output\" src=\"data:image/png;base64,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\"></div>"
      ],
      "text/plain": [
       "{AbsoluteDomain, AbsolutePath, Body, BodyByteArray, BodyBytes, ContentType, Cookies, \n",
       " \n",
       ">   Domain, FormRules, Fragment, Headers, Password, Path, PathString, Port, Query, \n",
       " \n",
       ">   QueryString, Scheme, URL, User, UserAgent, Username, Method}"
      ]
     },
     "execution_count": 3,
     "metadata": {
      "text/html": [],
      "text/plain": []
     },
     "output_type": "execute_result"
    }
   ],
   "source": [
    "HTTPRequest[\"http://poetry.lightfly.cn\"][\"Properties\"]"
   ]
  },
  {
   "cell_type": "code",
   "execution_count": 4,
   "metadata": {},
   "outputs": [
    {
     "data": {
      "text/html": [
       "<div><pre style=\"&#102;&#111;&#110;&#116;&#45;&#102;&#97;&#109;&#105;&#108;&#121;&#58;&#32;&#34;&#67;&#111;&#117;&#114;&#105;&#101;&#114;&#32;&#78;&#101;&#119;&#34;&#44;&#67;&#111;&#117;&#114;&#105;&#101;&#114;&#44;&#109;&#111;&#110;&#111;&#115;&#112;&#97;&#99;&#101;&#59;\">&#60;&#124;&#66;&#111;&#100;&#121;&#32;&#45;&#62;&#32;&#123;&#34;&#99;&#111;&#100;&#101;&#34;&#58;&#48;&#44;&#34;&#100;&#97;&#116;&#97;&#34;&#58;&#123;&#34;&#116;&#105;&#116;&#108;&#101;&#34;&#58;&#34;&#112;&#111;&#101;&#116;&#114;&#121;&#32;&#97;&#112;&#105;&#92;&#10;&#32;&#10;&#62;&#32;&#32;&#32;&#32;&#32;&#115;&#101;&#114;&#118;&#101;&#114;&#34;&#44;&#34;&#118;&#101;&#114;&#115;&#105;&#111;&#110;&#34;&#58;&#34;&#48;&#46;&#49;&#46;&#48;&#34;&#44;&#34;&#115;&#116;&#97;&#103;&#101;&#34;&#58;&#34;&#100;&#101;&#118;&#34;&#125;&#44;&#34;&#109;&#115;&#103;&#34;&#58;&#34;&#111;&#107;&#34;&#125;&#124;&#62;</pre></div>"
      ],
      "text/plain": [
       "<|Body -> {\"code\":0,\"data\":{\"title\":\"poetry api\\\n",
       " \n",
       ">     server\",\"version\":\"0.1.0\",\"stage\":\"dev\"},\"msg\":\"ok\"}|>"
      ]
     },
     "execution_count": 4,
     "metadata": {
      "text/html": [],
      "text/plain": []
     },
     "output_type": "execute_result"
    }
   ],
   "source": [
    "response[{\"Body\"}]"
   ]
  },
  {
   "cell_type": "markdown",
   "metadata": {},
   "source": [
    "\n",
    "发送一个`POST`请求"
   ]
  },
  {
   "cell_type": "code",
   "execution_count": 5,
   "metadata": {},
   "outputs": [
    {
     "data": {
      "text/html": [
       "<style>\n",
       "\t\t\t\t\t\t\t\t\t\t\t\t\t.grid-container {\n",
       "\t\t\t\t\t\t\t\t\t\t\t\t\t\tdisplay: inline-grid;\n",
       "\t\t\t\t\t\t\t\t\t\t\t\t\t\tgrid-template-columns: auto;\n",
       "\t\t\t\t\t\t\t\t\t\t\t\t\t}\n",
       "\t\t\t\t\t\t\t\t\t\t\t\t</style>\n",
       "\n",
       "\t\t\t\t\t\t\t\t\t\t\t\t<div><div class=\"grid-container\"><div class=\"grid-item\"><pre style=\"&#102;&#111;&#110;&#116;&#45;&#102;&#97;&#109;&#105;&#108;&#121;&#58;&#32;&#34;&#67;&#111;&#117;&#114;&#105;&#101;&#114;&#32;&#78;&#101;&#119;&#34;&#44;&#67;&#111;&#117;&#114;&#105;&#101;&#114;&#44;&#109;&#111;&#110;&#111;&#115;&#112;&#97;&#99;&#101;&#59;\">&#104;&#116;&#116;&#112;&#58;&#47;&#47;&#112;&#111;&#101;&#116;&#114;&#121;&#46;&#108;&#105;&#103;&#104;&#116;&#102;&#108;&#121;&#46;&#99;&#110;&#47;&#108;&#111;&#103;&#105;&#110;</pre></div><div class=\"grid-item\"><pre style=\"&#102;&#111;&#110;&#116;&#45;&#102;&#97;&#109;&#105;&#108;&#121;&#58;&#32;&#34;&#67;&#111;&#117;&#114;&#105;&#101;&#114;&#32;&#78;&#101;&#119;&#34;&#44;&#67;&#111;&#117;&#114;&#105;&#101;&#114;&#44;&#109;&#111;&#110;&#111;&#115;&#112;&#97;&#99;&#101;&#59;\">&#123;&#34;&#99;&#111;&#100;&#101;&#34;&#58;&#49;&#48;&#48;&#48;&#44;&#34;&#100;&#97;&#116;&#97;&#34;&#58;&#123;&#125;&#44;&#34;&#109;&#115;&#103;&#34;&#58;&#123;&#34;&#117;&#115;&#101;&#114;&#110;&#97;&#109;&#101;&#34;&#58;&#123;&#34;&#95;&#114;&#101;&#113;&#117;&#105;&#114;&#101;&#100;&#34;&#58;&#34;&#84;&#104;&#105;&#115;&#32;&#102;&#105;&#101;&#108;&#100;&#32;&#105;&#115;&#92;&#10;&#32;&#10;&#62;&#32;&#32;&#32;&#114;&#101;&#113;&#117;&#105;&#114;&#101;&#100;&#34;&#125;&#44;&#34;&#111;&#112;&#101;&#110;&#105;&#100;&#34;&#58;&#123;&#34;&#95;&#114;&#101;&#113;&#117;&#105;&#114;&#101;&#100;&#34;&#58;&#34;&#84;&#104;&#105;&#115;&#32;&#102;&#105;&#101;&#108;&#100;&#32;&#105;&#115;&#32;&#114;&#101;&#113;&#117;&#105;&#114;&#101;&#100;&#34;&#125;&#125;&#125;</pre></div></div></div>"
      ],
      "text/plain": [
       "http://poetry.lightfly.cn/login\n",
       "{\"code\":1000,\"data\":{},\"msg\":{\"username\":{\"_required\":\"This field is\\\n",
       " \n",
       ">   required\"},\"openid\":{\"_required\":\"This field is required\"}}}"
      ]
     },
     "execution_count": 5,
     "metadata": {
      "text/html": [],
      "text/plain": []
     },
     "output_type": "execute_result"
    }
   ],
   "source": [
    "url = \"http://poetry.lightfly.cn/login\"\n",
    "req = HTTPRequest[\n",
    "   url, <|\n",
    "    Method -> \"POST\", \n",
    "    \"Body\" -> \"{}\",\n",
    "    \"ContentType\" -> \"application/json\"\n",
    "    |>\n",
    "   ];\n",
    "URLRead[req, \"Body\"]"
   ]
  },
  {
   "cell_type": "code",
   "execution_count": 8,
   "metadata": {},
   "outputs": [
    {
     "data": {
      "text/html": [
       "<div><pre style=\"&#102;&#111;&#110;&#116;&#45;&#102;&#97;&#109;&#105;&#108;&#121;&#58;&#32;&#34;&#67;&#111;&#117;&#114;&#105;&#101;&#114;&#32;&#78;&#101;&#119;&#34;&#44;&#67;&#111;&#117;&#114;&#105;&#101;&#114;&#44;&#109;&#111;&#110;&#111;&#115;&#112;&#97;&#99;&#101;&#59;\">&#123;&#34;&#99;&#111;&#100;&#101;&#34;&#58;&#48;&#44;&#34;&#100;&#97;&#116;&#97;&#34;&#58;&#123;&#34;&#116;&#105;&#116;&#108;&#101;&#34;&#58;&#34;&#112;&#111;&#101;&#116;&#114;&#121;&#32;&#97;&#112;&#105;&#92;&#10;&#32;&#10;&#62;&#32;&#32;&#32;&#115;&#101;&#114;&#118;&#101;&#114;&#34;&#44;&#34;&#118;&#101;&#114;&#115;&#105;&#111;&#110;&#34;&#58;&#34;&#48;&#46;&#49;&#46;&#48;&#34;&#44;&#34;&#115;&#116;&#97;&#103;&#101;&#34;&#58;&#34;&#100;&#101;&#118;&#34;&#125;&#44;&#34;&#109;&#115;&#103;&#34;&#58;&#34;&#111;&#107;&#34;&#125;</pre></div>"
      ],
      "text/plain": [
       "{\"code\":0,\"data\":{\"title\":\"poetry api\\\n",
       " \n",
       ">   server\",\"version\":\"0.1.0\",\"stage\":\"dev\"},\"msg\":\"ok\"}"
      ]
     },
     "execution_count": 8,
     "metadata": {
      "text/html": [],
      "text/plain": []
     },
     "output_type": "execute_result"
    }
   ],
   "source": [
    "body = response[{\"Body\"}][\"Body\"]"
   ]
  },
  {
   "cell_type": "code",
   "execution_count": 9,
   "metadata": {},
   "outputs": [
    {
     "data": {
      "text/html": [
       "<div><img alt=\"Output\" src=\"data:image/png;base64,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\"></div>"
      ],
      "text/plain": [
       "{code -> 0, data -> {title -> poetry api server, version -> 0.1.0, stage -> dev}, \n",
       " \n",
       ">   msg -> ok}"
      ]
     },
     "execution_count": 9,
     "metadata": {
      "text/html": [],
      "text/plain": []
     },
     "output_type": "execute_result"
    }
   ],
   "source": [
    "{code, data, msg} = ImportString[body, \"JSON\"]"
   ]
  },
  {
   "cell_type": "markdown",
   "metadata": {},
   "source": [
    "上面返回的是一个规则列表，本身是一个列表，里面定义了多个规则， 下面是将其转换成关联"
   ]
  },
  {
   "cell_type": "code",
   "execution_count": 40,
   "metadata": {},
   "outputs": [
    {
     "data": {
      "text/html": [
       "<div><img alt=\"Output\" src=\"data:image/png;base64,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\"></div>"
      ],
      "text/plain": [
       "<|code -> 0, data -> {title -> poetry api server, version -> 0.1.0, stage -> dev}, \n",
       " \n",
       ">   msg -> ok|>"
      ]
     },
     "execution_count": 40,
     "metadata": {
      "text/html": [],
      "text/plain": []
     },
     "output_type": "execute_result"
    }
   ],
   "source": [
    " json = Association[ImportString[body, \"JSON\"]]"
   ]
  },
  {
   "cell_type": "code",
   "execution_count": 42,
   "metadata": {},
   "outputs": [
    {
     "data": {
      "text/html": [
       "<div><img alt=\"Output\" src=\"data:image/png;base64,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\"></div>"
      ],
      "text/plain": [
       "{title -> poetry api server, version -> 0.1.0, stage -> dev}"
      ]
     },
     "execution_count": 42,
     "metadata": {
      "text/html": [],
      "text/plain": []
     },
     "output_type": "execute_result"
    }
   ],
   "source": [
    "json[\"data\"]"
   ]
  },
  {
   "cell_type": "code",
   "execution_count": null,
   "metadata": {},
   "outputs": [],
   "source": []
  }
 ],
 "metadata": {
  "kernelspec": {
   "display_name": "Wolfram Language 12",
   "language": "Wolfram Language",
   "name": "wolframlanguage12"
  },
  "language_info": {
   "codemirror_mode": "mathematica",
   "file_extension": ".m",
   "mimetype": "application/vnd.wolfram.m",
   "name": "Wolfram Language",
   "pygments_lexer": "mathematica",
   "version": "12.0"
  }
 },
 "nbformat": 4,
 "nbformat_minor": 4
}
