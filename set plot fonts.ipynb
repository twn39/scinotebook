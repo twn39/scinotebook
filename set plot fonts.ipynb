{
 "cells": [
  {
   "cell_type": "code",
   "execution_count": 4,
   "id": "da2b3660-fcbb-44a8-a63b-5337574a251c",
   "metadata": {},
   "outputs": [
    {
     "name": "stdout",
     "output_type": "stream",
     "text": [
      "Reading package lists... Done\n",
      "Building dependency tree       \n",
      "Reading state information... Done\n",
      "fonts-noto-cjk is already the newest version (1:20190410+repack1-2).\n",
      "0 upgraded, 0 newly installed, 0 to remove and 14 not upgraded.\n"
     ]
    }
   ],
   "source": [
    "!sudo apt install fonts-noto-cjk"
   ]
  },
  {
   "cell_type": "code",
   "execution_count": 5,
   "id": "c6cb06aa-a45c-471c-908b-ae6679f06598",
   "metadata": {},
   "outputs": [
    {
     "name": "stdout",
     "output_type": "stream",
     "text": [
      "/usr/share/fonts/opentype/noto/NotoSansCJK-Regular.ttc\n",
      "/usr/share/fonts/opentype/noto/NotoSansCJK-Bold.ttc\n",
      "/usr/share/fonts/opentype/noto/NotoSerifCJK-Bold.ttc\n",
      "/usr/share/fonts/opentype/noto/NotoSerifCJK-Regular.ttc\n"
     ]
    }
   ],
   "source": [
    "import matplotlib\n",
    "from matplotlib import font_manager\n",
    "\n",
    "font_files = matplotlib.font_manager.findSystemFonts('/usr/share/fonts/opentype/noto')\n",
    "for font_file in font_files:\n",
    "    print(font_file)\n",
    "    font_manager.fontManager.addfont(font_file)"
   ]
  },
  {
   "cell_type": "code",
   "execution_count": 3,
   "id": "22701e49-b5cc-4e16-b9ec-0477a4ca899b",
   "metadata": {},
   "outputs": [
    {
     "data": {
      "text/plain": [
       "['Noto Serif CJK JP',\n",
       " 'DejaVu Serif Display',\n",
       " 'DejaVu Sans',\n",
       " 'STIXGeneral',\n",
       " 'cmmi10',\n",
       " 'cmr10',\n",
       " 'cmex10',\n",
       " 'cmss10',\n",
       " 'DejaVu Serif',\n",
       " 'STIXNonUnicode',\n",
       " 'STIXSizeOneSym',\n",
       " 'DejaVu Sans Mono',\n",
       " 'cmb10',\n",
       " 'STIXSizeTwoSym',\n",
       " 'STIXSizeFiveSym',\n",
       " 'STIXSizeFourSym',\n",
       " 'cmtt10',\n",
       " 'cmsy10',\n",
       " 'DejaVu Sans Display',\n",
       " 'Noto Sans CJK JP',\n",
       " 'STIXSizeThreeSym']"
      ]
     },
     "execution_count": 3,
     "metadata": {},
     "output_type": "execute_result"
    }
   ],
   "source": [
    "matplotlib.font_manager.get_font_names()"
   ]
  },
  {
   "cell_type": "code",
   "execution_count": null,
   "id": "21d26e85-f896-43cc-ad5c-9ac033062c8d",
   "metadata": {},
   "outputs": [],
   "source": []
  }
 ],
 "metadata": {
  "kernelspec": {
   "display_name": "Python 3 (ipykernel)",
   "language": "python",
   "name": "python3"
  },
  "language_info": {
   "codemirror_mode": {
    "name": "ipython",
    "version": 3
   },
   "file_extension": ".py",
   "mimetype": "text/x-python",
   "name": "python",
   "nbconvert_exporter": "python",
   "pygments_lexer": "ipython3",
   "version": "3.12.1"
  }
 },
 "nbformat": 4,
 "nbformat_minor": 5
}
