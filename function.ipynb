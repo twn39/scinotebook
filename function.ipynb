{
 "cells": [
  {
   "cell_type": "code",
   "execution_count": 1,
   "metadata": {},
   "outputs": [
    {
     "name": "stdout",
     "output_type": "stream",
     "text": [
      "Populating the interactive namespace from numpy and matplotlib\n"
     ]
    }
   ],
   "source": [
    "%pylab inline\n",
    "import pandas as pd\n",
    "matplotlib.style.use('ggplot')"
   ]
  },
  {
   "cell_type": "markdown",
   "metadata": {},
   "source": [
    "### 函数"
   ]
  },
  {
   "cell_type": "markdown",
   "metadata": {},
   "source": [
    "$$y=ax + b$$"
   ]
  },
  {
   "cell_type": "code",
   "execution_count": null,
   "metadata": {},
   "outputs": [
    {
     "data": {
      "text/plain": [
       "<matplotlib.legend.Legend at 0x14a795de240>"
      ]
     },
     "execution_count": 2,
     "metadata": {},
     "output_type": "execute_result"
    }
   ],
   "source": [
    "x = linspace(-5, 5, 200)\n",
    "y = lambda x : 3 * x -5\n",
    "plot(x, y(x), color='green', label='$y=3x-5$')\n",
    "xlabel('x')\n",
    "ylabel('y')\n",
    "legend(['$y=3x-5$'])"
   ]
  },
  {
   "cell_type": "markdown",
   "metadata": {},
   "source": [
    "$$y=ax^2 + bx +c$$\n",
    "它的对称轴为直线\n",
    "$$x=-\\frac{b}{2a}$$"
   ]
  },
  {
   "cell_type": "code",
   "execution_count": null,
   "metadata": {},
   "outputs": [],
   "source": [
    "x = linspace(-5, 7, 200)\n",
    "y = lambda x : 2 * (x**2) - 3 * x -5\n",
    "\n",
    "m = (3/4) * ones(20)\n",
    "g = linspace(-20, 80, 20)\n",
    "\n",
    "plot(x, y(x), m, g)\n",
    "xlabel('x')\n",
    "ylabel('y')\n",
    "legend(['$y=2x^2-3x-5$', '$x=3/4$'])"
   ]
  },
  {
   "cell_type": "markdown",
   "metadata": {},
   "source": [
    "$$y=\\frac{a}{x}$$"
   ]
  },
  {
   "cell_type": "code",
   "execution_count": null,
   "metadata": {
    "scrolled": true
   },
   "outputs": [],
   "source": [
    "x = linspace(-2, 2, 200)\n",
    "y = lambda x : 3/x\n",
    "plot(x, y(x), color='green')\n",
    "xlabel('x')\n",
    "ylabel('y')\n",
    "legend(['$y=3/x$'])"
   ]
  },
  {
   "cell_type": "markdown",
   "metadata": {},
   "source": [
    "$$y=asin(x)$$"
   ]
  },
  {
   "cell_type": "code",
   "execution_count": null,
   "metadata": {},
   "outputs": [],
   "source": [
    "x = linspace(-10, 10, 200)\n",
    "y = lambda x : 2*sin(x)\n",
    "plot(x, y(x), color='green')\n",
    "xlabel('x')\n",
    "ylabel('y')\n",
    "legend(['$y=2sin(x)$'])"
   ]
  },
  {
   "cell_type": "markdown",
   "metadata": {},
   "source": [
    "$$y=acos(x)$$"
   ]
  },
  {
   "cell_type": "code",
   "execution_count": null,
   "metadata": {},
   "outputs": [],
   "source": [
    "x = linspace(-10, 10, 200)\n",
    "y = lambda x : 2*cos(x)\n",
    "plot(x, y(x), color='green')\n",
    "xlabel('x')\n",
    "ylabel('y')\n",
    "legend(['$y=2cos(x)$'])"
   ]
  },
  {
   "cell_type": "markdown",
   "metadata": {},
   "source": [
    "$$y=atan(x)$$"
   ]
  },
  {
   "cell_type": "code",
   "execution_count": null,
   "metadata": {},
   "outputs": [],
   "source": [
    "x = linspace(-3, 3, 200)\n",
    "y = lambda x : 2*tan(x)\n",
    "plot(x, y(x), color='green')\n",
    "xlabel('x')\n",
    "ylabel('y')\n",
    "legend(['$y=2tan(x)$'])"
   ]
  },
  {
   "cell_type": "markdown",
   "metadata": {},
   "source": [
    "$$y=a^x$$"
   ]
  },
  {
   "cell_type": "code",
   "execution_count": null,
   "metadata": {},
   "outputs": [],
   "source": [
    "x = linspace(-5, 5, 200)\n",
    "y = lambda x : 3**x\n",
    "plot(x, y(x), color='green')\n",
    "xlabel('x')\n",
    "ylabel('y')\n",
    "legend(['$y=3^x$'])"
   ]
  },
  {
   "cell_type": "markdown",
   "metadata": {},
   "source": [
    "$$y=log_ax$$"
   ]
  },
  {
   "cell_type": "code",
   "execution_count": null,
   "metadata": {},
   "outputs": [],
   "source": [
    "x = linspace(-3, 3, 200)\n",
    "y = lambda x : log2(x)\n",
    "plot(x, y(x), color='green')\n",
    "xlabel('x')\n",
    "ylabel('y')\n",
    "legend(['$y=log_2x$'])"
   ]
  },
  {
   "cell_type": "code",
   "execution_count": null,
   "metadata": {},
   "outputs": [],
   "source": []
  },
  {
   "cell_type": "code",
   "execution_count": null,
   "metadata": {},
   "outputs": [],
   "source": []
  }
 ],
 "metadata": {
  "kernelspec": {
   "display_name": "Python 3",
   "language": "python",
   "name": "python3"
  },
  "language_info": {
   "codemirror_mode": {
    "name": "ipython",
    "version": 3
   },
   "file_extension": ".py",
   "mimetype": "text/x-python",
   "name": "python",
   "nbconvert_exporter": "python",
   "pygments_lexer": "ipython3",
   "version": "3.6.5"
  }
 },
 "nbformat": 4,
 "nbformat_minor": 1
}
