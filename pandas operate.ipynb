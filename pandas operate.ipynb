{
 "cells": [
  {
   "cell_type": "code",
   "execution_count": 1,
   "metadata": {},
   "outputs": [
    {
     "name": "stdout",
     "output_type": "stream",
     "text": [
      "Populating the interactive namespace from numpy and matplotlib\n"
     ]
    }
   ],
   "source": [
    "%pylab inline\n",
    "import pandas as pd\n",
    "matplotlib.style.use('ggplot')"
   ]
  },
  {
   "cell_type": "markdown",
   "metadata": {},
   "source": [
    "** 数据导入**\n",
    "\n",
    "数据集来自`Asian development bank`,标题：Population - China, People's Republic of\n",
    "\n",
    "csv URL：`https://www.quandl.com/api/v3/datasets/ADB/POP_CHN.csv`"
   ]
  },
  {
   "cell_type": "code",
   "execution_count": 2,
   "metadata": {},
   "outputs": [],
   "source": [
    "data = pd.read_csv('https://www.quandl.com/api/v3/datasets/ADB/POP_CHN.csv', index_col=0, header=0, parse_dates=True)"
   ]
  },
  {
   "cell_type": "markdown",
   "metadata": {},
   "source": [
    "将第一列日期设置为索引，第一行为标题列，格式化日期"
   ]
  },
  {
   "cell_type": "code",
   "execution_count": 3,
   "metadata": {},
   "outputs": [
    {
     "data": {
      "text/html": [
       "<div>\n",
       "<table border=\"1\" class=\"dataframe\">\n",
       "  <thead>\n",
       "    <tr style=\"text-align: right;\">\n",
       "      <th></th>\n",
       "      <th>Total Population (million)</th>\n",
       "      <th>Population Density (persons per square kilometer)</th>\n",
       "      <th>Population Annual Change (percent)</th>\n",
       "      <th>Urban Population (percent of total population)</th>\n",
       "    </tr>\n",
       "    <tr>\n",
       "      <th>Date</th>\n",
       "      <th></th>\n",
       "      <th></th>\n",
       "      <th></th>\n",
       "      <th></th>\n",
       "    </tr>\n",
       "  </thead>\n",
       "  <tbody>\n",
       "    <tr>\n",
       "      <th>2014-12-31</th>\n",
       "      <td>1367.82</td>\n",
       "      <td>142.00000</td>\n",
       "      <td>0.521783</td>\n",
       "      <td>54.7700</td>\n",
       "    </tr>\n",
       "    <tr>\n",
       "      <th>2013-12-31</th>\n",
       "      <td>1360.72</td>\n",
       "      <td>141.39000</td>\n",
       "      <td>0.493338</td>\n",
       "      <td>53.7300</td>\n",
       "    </tr>\n",
       "    <tr>\n",
       "      <th>2012-12-31</th>\n",
       "      <td>1354.04</td>\n",
       "      <td>140.70000</td>\n",
       "      <td>0.496530</td>\n",
       "      <td>52.5700</td>\n",
       "    </tr>\n",
       "    <tr>\n",
       "      <th>2011-12-31</th>\n",
       "      <td>1347.35</td>\n",
       "      <td>140.00000</td>\n",
       "      <td>0.480271</td>\n",
       "      <td>51.2700</td>\n",
       "    </tr>\n",
       "    <tr>\n",
       "      <th>2010-12-31</th>\n",
       "      <td>1340.91</td>\n",
       "      <td>140.00000</td>\n",
       "      <td>0.480330</td>\n",
       "      <td>49.9500</td>\n",
       "    </tr>\n",
       "    <tr>\n",
       "      <th>2009-12-31</th>\n",
       "      <td>1334.50</td>\n",
       "      <td>139.03540</td>\n",
       "      <td>0.487000</td>\n",
       "      <td>48.4598</td>\n",
       "    </tr>\n",
       "    <tr>\n",
       "      <th>2008-12-31</th>\n",
       "      <td>1328.02</td>\n",
       "      <td>138.33542</td>\n",
       "      <td>0.508000</td>\n",
       "      <td>46.9900</td>\n",
       "    </tr>\n",
       "    <tr>\n",
       "      <th>2007-12-31</th>\n",
       "      <td>1321.29</td>\n",
       "      <td>137.63400</td>\n",
       "      <td>0.518080</td>\n",
       "      <td>45.8900</td>\n",
       "    </tr>\n",
       "    <tr>\n",
       "      <th>2006-12-31</th>\n",
       "      <td>1314.48</td>\n",
       "      <td>136.92500</td>\n",
       "      <td>0.529230</td>\n",
       "      <td>43.9000</td>\n",
       "    </tr>\n",
       "    <tr>\n",
       "      <th>2005-12-31</th>\n",
       "      <td>1307.56</td>\n",
       "      <td>136.00000</td>\n",
       "      <td>0.590820</td>\n",
       "      <td>43.0000</td>\n",
       "    </tr>\n",
       "    <tr>\n",
       "      <th>2004-12-31</th>\n",
       "      <td>1299.88</td>\n",
       "      <td>135.00000</td>\n",
       "      <td>0.588890</td>\n",
       "      <td>41.8000</td>\n",
       "    </tr>\n",
       "    <tr>\n",
       "      <th>2003-12-31</th>\n",
       "      <td>1292.27</td>\n",
       "      <td>135.00000</td>\n",
       "      <td>0.602560</td>\n",
       "      <td>40.5000</td>\n",
       "    </tr>\n",
       "    <tr>\n",
       "      <th>2002-12-31</th>\n",
       "      <td>1284.53</td>\n",
       "      <td>133.80208</td>\n",
       "      <td>0.647200</td>\n",
       "      <td>39.1000</td>\n",
       "    </tr>\n",
       "    <tr>\n",
       "      <th>2001-12-31</th>\n",
       "      <td>1276.27</td>\n",
       "      <td>132.94792</td>\n",
       "      <td>0.697470</td>\n",
       "      <td>37.6600</td>\n",
       "    </tr>\n",
       "    <tr>\n",
       "      <th>2000-12-31</th>\n",
       "      <td>1267.43</td>\n",
       "      <td>132.02083</td>\n",
       "      <td>0.760820</td>\n",
       "      <td>36.2200</td>\n",
       "    </tr>\n",
       "    <tr>\n",
       "      <th>1999-12-31</th>\n",
       "      <td>1257.86</td>\n",
       "      <td>131.03125</td>\n",
       "      <td>0.821570</td>\n",
       "      <td>34.7800</td>\n",
       "    </tr>\n",
       "    <tr>\n",
       "      <th>1998-12-31</th>\n",
       "      <td>1247.61</td>\n",
       "      <td>129.95833</td>\n",
       "      <td>0.918090</td>\n",
       "      <td>33.3500</td>\n",
       "    </tr>\n",
       "    <tr>\n",
       "      <th>1997-12-31</th>\n",
       "      <td>1236.26</td>\n",
       "      <td>128.78125</td>\n",
       "      <td>1.010710</td>\n",
       "      <td>31.9100</td>\n",
       "    </tr>\n",
       "    <tr>\n",
       "      <th>1996-12-31</th>\n",
       "      <td>1223.89</td>\n",
       "      <td>127.48958</td>\n",
       "      <td>1.046890</td>\n",
       "      <td>30.4800</td>\n",
       "    </tr>\n",
       "  </tbody>\n",
       "</table>\n",
       "</div>"
      ],
      "text/plain": [
       "            Total Population (million)  \\\n",
       "Date                                     \n",
       "2014-12-31                     1367.82   \n",
       "2013-12-31                     1360.72   \n",
       "2012-12-31                     1354.04   \n",
       "2011-12-31                     1347.35   \n",
       "2010-12-31                     1340.91   \n",
       "2009-12-31                     1334.50   \n",
       "2008-12-31                     1328.02   \n",
       "2007-12-31                     1321.29   \n",
       "2006-12-31                     1314.48   \n",
       "2005-12-31                     1307.56   \n",
       "2004-12-31                     1299.88   \n",
       "2003-12-31                     1292.27   \n",
       "2002-12-31                     1284.53   \n",
       "2001-12-31                     1276.27   \n",
       "2000-12-31                     1267.43   \n",
       "1999-12-31                     1257.86   \n",
       "1998-12-31                     1247.61   \n",
       "1997-12-31                     1236.26   \n",
       "1996-12-31                     1223.89   \n",
       "\n",
       "            Population Density (persons per square kilometer)  \\\n",
       "Date                                                            \n",
       "2014-12-31                                          142.00000   \n",
       "2013-12-31                                          141.39000   \n",
       "2012-12-31                                          140.70000   \n",
       "2011-12-31                                          140.00000   \n",
       "2010-12-31                                          140.00000   \n",
       "2009-12-31                                          139.03540   \n",
       "2008-12-31                                          138.33542   \n",
       "2007-12-31                                          137.63400   \n",
       "2006-12-31                                          136.92500   \n",
       "2005-12-31                                          136.00000   \n",
       "2004-12-31                                          135.00000   \n",
       "2003-12-31                                          135.00000   \n",
       "2002-12-31                                          133.80208   \n",
       "2001-12-31                                          132.94792   \n",
       "2000-12-31                                          132.02083   \n",
       "1999-12-31                                          131.03125   \n",
       "1998-12-31                                          129.95833   \n",
       "1997-12-31                                          128.78125   \n",
       "1996-12-31                                          127.48958   \n",
       "\n",
       "            Population Annual Change (percent)  \\\n",
       "Date                                             \n",
       "2014-12-31                            0.521783   \n",
       "2013-12-31                            0.493338   \n",
       "2012-12-31                            0.496530   \n",
       "2011-12-31                            0.480271   \n",
       "2010-12-31                            0.480330   \n",
       "2009-12-31                            0.487000   \n",
       "2008-12-31                            0.508000   \n",
       "2007-12-31                            0.518080   \n",
       "2006-12-31                            0.529230   \n",
       "2005-12-31                            0.590820   \n",
       "2004-12-31                            0.588890   \n",
       "2003-12-31                            0.602560   \n",
       "2002-12-31                            0.647200   \n",
       "2001-12-31                            0.697470   \n",
       "2000-12-31                            0.760820   \n",
       "1999-12-31                            0.821570   \n",
       "1998-12-31                            0.918090   \n",
       "1997-12-31                            1.010710   \n",
       "1996-12-31                            1.046890   \n",
       "\n",
       "            Urban Population (percent of total population)  \n",
       "Date                                                        \n",
       "2014-12-31                                         54.7700  \n",
       "2013-12-31                                         53.7300  \n",
       "2012-12-31                                         52.5700  \n",
       "2011-12-31                                         51.2700  \n",
       "2010-12-31                                         49.9500  \n",
       "2009-12-31                                         48.4598  \n",
       "2008-12-31                                         46.9900  \n",
       "2007-12-31                                         45.8900  \n",
       "2006-12-31                                         43.9000  \n",
       "2005-12-31                                         43.0000  \n",
       "2004-12-31                                         41.8000  \n",
       "2003-12-31                                         40.5000  \n",
       "2002-12-31                                         39.1000  \n",
       "2001-12-31                                         37.6600  \n",
       "2000-12-31                                         36.2200  \n",
       "1999-12-31                                         34.7800  \n",
       "1998-12-31                                         33.3500  \n",
       "1997-12-31                                         31.9100  \n",
       "1996-12-31                                         30.4800  "
      ]
     },
     "execution_count": 3,
     "metadata": {},
     "output_type": "execute_result"
    }
   ],
   "source": [
    "data"
   ]
  },
  {
   "cell_type": "markdown",
   "metadata": {},
   "source": [
    "将时间按照升序排序，查看它的大致信息"
   ]
  },
  {
   "cell_type": "code",
   "execution_count": 4,
   "metadata": {},
   "outputs": [
    {
     "data": {
      "text/html": [
       "<div>\n",
       "<table border=\"1\" class=\"dataframe\">\n",
       "  <thead>\n",
       "    <tr style=\"text-align: right;\">\n",
       "      <th></th>\n",
       "      <th>Total Population (million)</th>\n",
       "      <th>Population Density (persons per square kilometer)</th>\n",
       "      <th>Population Annual Change (percent)</th>\n",
       "      <th>Urban Population (percent of total population)</th>\n",
       "    </tr>\n",
       "  </thead>\n",
       "  <tbody>\n",
       "    <tr>\n",
       "      <th>count</th>\n",
       "      <td>19.000000</td>\n",
       "      <td>19.000000</td>\n",
       "      <td>19.000000</td>\n",
       "      <td>19.000000</td>\n",
       "    </tr>\n",
       "    <tr>\n",
       "      <th>mean</th>\n",
       "      <td>1303.299474</td>\n",
       "      <td>135.686898</td>\n",
       "      <td>0.642083</td>\n",
       "      <td>42.964726</td>\n",
       "    </tr>\n",
       "    <tr>\n",
       "      <th>std</th>\n",
       "      <td>43.403837</td>\n",
       "      <td>4.429576</td>\n",
       "      <td>0.184486</td>\n",
       "      <td>7.654438</td>\n",
       "    </tr>\n",
       "    <tr>\n",
       "      <th>min</th>\n",
       "      <td>1223.890000</td>\n",
       "      <td>127.489580</td>\n",
       "      <td>0.480271</td>\n",
       "      <td>30.480000</td>\n",
       "    </tr>\n",
       "    <tr>\n",
       "      <th>25%</th>\n",
       "      <td>1271.850000</td>\n",
       "      <td>132.484375</td>\n",
       "      <td>0.502265</td>\n",
       "      <td>36.940000</td>\n",
       "    </tr>\n",
       "    <tr>\n",
       "      <th>50%</th>\n",
       "      <td>1307.560000</td>\n",
       "      <td>136.000000</td>\n",
       "      <td>0.588890</td>\n",
       "      <td>43.000000</td>\n",
       "    </tr>\n",
       "    <tr>\n",
       "      <th>75%</th>\n",
       "      <td>1337.705000</td>\n",
       "      <td>139.517700</td>\n",
       "      <td>0.729145</td>\n",
       "      <td>49.204900</td>\n",
       "    </tr>\n",
       "    <tr>\n",
       "      <th>max</th>\n",
       "      <td>1367.820000</td>\n",
       "      <td>142.000000</td>\n",
       "      <td>1.046890</td>\n",
       "      <td>54.770000</td>\n",
       "    </tr>\n",
       "  </tbody>\n",
       "</table>\n",
       "</div>"
      ],
      "text/plain": [
       "       Total Population (million)  \\\n",
       "count                   19.000000   \n",
       "mean                  1303.299474   \n",
       "std                     43.403837   \n",
       "min                   1223.890000   \n",
       "25%                   1271.850000   \n",
       "50%                   1307.560000   \n",
       "75%                   1337.705000   \n",
       "max                   1367.820000   \n",
       "\n",
       "       Population Density (persons per square kilometer)  \\\n",
       "count                                          19.000000   \n",
       "mean                                          135.686898   \n",
       "std                                             4.429576   \n",
       "min                                           127.489580   \n",
       "25%                                           132.484375   \n",
       "50%                                           136.000000   \n",
       "75%                                           139.517700   \n",
       "max                                           142.000000   \n",
       "\n",
       "       Population Annual Change (percent)  \\\n",
       "count                           19.000000   \n",
       "mean                             0.642083   \n",
       "std                              0.184486   \n",
       "min                              0.480271   \n",
       "25%                              0.502265   \n",
       "50%                              0.588890   \n",
       "75%                              0.729145   \n",
       "max                              1.046890   \n",
       "\n",
       "       Urban Population (percent of total population)  \n",
       "count                                       19.000000  \n",
       "mean                                        42.964726  \n",
       "std                                          7.654438  \n",
       "min                                         30.480000  \n",
       "25%                                         36.940000  \n",
       "50%                                         43.000000  \n",
       "75%                                         49.204900  \n",
       "max                                         54.770000  "
      ]
     },
     "execution_count": 4,
     "metadata": {},
     "output_type": "execute_result"
    }
   ],
   "source": [
    "data = data.sort_index(ascending=True)\n",
    "data.describe()"
   ]
  },
  {
   "cell_type": "code",
   "execution_count": 5,
   "metadata": {},
   "outputs": [
    {
     "data": {
      "text/plain": [
       "Date\n",
       "1996-12-31    1223.89\n",
       "1997-12-31    1236.26\n",
       "1998-12-31    1247.61\n",
       "1999-12-31    1257.86\n",
       "2000-12-31    1267.43\n",
       "2001-12-31    1276.27\n",
       "2002-12-31    1284.53\n",
       "2003-12-31    1292.27\n",
       "2004-12-31    1299.88\n",
       "2005-12-31    1307.56\n",
       "2006-12-31    1314.48\n",
       "2007-12-31    1321.29\n",
       "2008-12-31    1328.02\n",
       "2009-12-31    1334.50\n",
       "2010-12-31    1340.91\n",
       "2011-12-31    1347.35\n",
       "2012-12-31    1354.04\n",
       "2013-12-31    1360.72\n",
       "2014-12-31    1367.82\n",
       "Name: Total Population (million), dtype: float64"
      ]
     },
     "execution_count": 5,
     "metadata": {},
     "output_type": "execute_result"
    }
   ],
   "source": [
    "data['Total Population (million)']"
   ]
  },
  {
   "cell_type": "code",
   "execution_count": 6,
   "metadata": {},
   "outputs": [
    {
     "data": {
      "text/plain": [
       "<matplotlib.text.Text at 0x2a2e6e988d0>"
      ]
     },
     "execution_count": 6,
     "metadata": {},
     "output_type": "execute_result"
    },
    {
     "data": {
      "image/png": "[encoded data removed]",
      "text/plain": [
       "<matplotlib.figure.Figure at 0x2a2e6d077b8>"
      ]
     },
     "metadata": {},
     "output_type": "display_data"
    }
   ],
   "source": [
    "total_pop = data['Total Population (million)']\n",
    "total_pop.plot()\n",
    "xlabel('Year')\n",
    "ylabel('Total Population (million)')\n",
    "title('Population - China, People\\'s Republic of')"
   ]
  },
  {
   "cell_type": "markdown",
   "metadata": {},
   "source": [
    "由图可知，总体的人口增长与时间线性相关，选择线性模型：\n",
    "$$y=ax+b$$"
   ]
  },
  {
   "cell_type": "code",
   "execution_count": 7,
   "metadata": {},
   "outputs": [
    {
     "data": {
      "text/plain": [
       "array([  7.67794737e+00,  -1.40909850e+04])"
      ]
     },
     "execution_count": 7,
     "metadata": {},
     "output_type": "execute_result"
    }
   ],
   "source": [
    "from scipy.optimize import curve_fit\n",
    "\n",
    "def func(x, a, b):\n",
    "    return a * x + b\n",
    "\n",
    "xdata = arange(1996, 2015)\n",
    "ydata = data['Total Population (million)'].values\n",
    "\n",
    "popt, pcov = curve_fit(func, xdata, ydata)\n",
    "popt"
   ]
  },
  {
   "cell_type": "code",
   "execution_count": 8,
   "metadata": {},
   "outputs": [
    {
     "data": {
      "text/plain": [
       "<matplotlib.text.Text at 0x2a2e7c434a8>"
      ]
     },
     "execution_count": 8,
     "metadata": {},
     "output_type": "execute_result"
    },
    {
     "data": {
      "image/png": "[encoded data removed]",
      "text/plain": [
       "<matplotlib.figure.Figure at 0x2a2e72196d8>"
      ]
     },
     "metadata": {},
     "output_type": "display_data"
    }
   ],
   "source": [
    "g = popt[0]*xdata + popt[1]\n",
    "plot(xdata, g)\n",
    "xlabel('Year')\n",
    "ylabel('Total Population (million)')\n",
    "title('Population - China, People\\'s Republic of')"
   ]
  }
 ],
 "metadata": {
  "kernelspec": {
   "display_name": "Python 3",
   "language": "python",
   "name": "python3"
  },
  "language_info": {
   "codemirror_mode": {
    "name": "ipython",
    "version": 3
   },
   "file_extension": ".py",
   "mimetype": "text/x-python",
   "name": "python",
   "nbconvert_exporter": "python",
   "pygments_lexer": "ipython3",
   "version": "3.6.0"
  }
 },
 "nbformat": 4,
 "nbformat_minor": 1
}
