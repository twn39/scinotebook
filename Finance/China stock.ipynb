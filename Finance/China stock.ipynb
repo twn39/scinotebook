{
 "cells": [
  {
   "cell_type": "code",
   "execution_count": 18,
   "id": "5e550b7f",
   "metadata": {},
   "outputs": [],
   "source": [
    "# !pip install httpx\n",
    "import matplotlib\n",
    "matplotlib.rcParams['font.sans-serif'] = \"KaiTi\""
   ]
  },
  {
   "cell_type": "markdown",
   "id": "9beb1582",
   "metadata": {},
   "source": [
    "## 网易接口\n",
    "\n",
    "网易接口获取历史每日数据\n",
    "\n",
    "URL 格式：\n",
    "\n",
    "\n",
    "```\n",
    "http://quotes.money.163.com/service/chddata.html?code=代码&start=开始时间&end=结束时间&fields=TCLOSE;HIGH;LOW;TOPEN;LCLOSE;CHG;PCHG;TURNOVER;VOTURNOVER;VATURNOVER;TCAP;MCAP\n",
    "```\n",
    "\n",
    "\n",
    "参数说明：代码为股票代码，上海股票前加0，如600756变成0600756，深圳股票前加1。时间都是6位标识法，年月日，fields标识想要请求的数据。可以不变。\n",
    "\n",
    "例如大盘指数数据查询（上证指数000001前加0，沪深300指数000300股票前加0，深证成指399001前加1，中小板指399005前加1，创业板指399006前加1）：\n",
    "\n",
    "```\n",
    "http://quotes.money.163.com/service/chddata.html?code=0000300&start=20151219&end=20171108&fields=TCLOSE;HIGH;LOW;TOPEN;LCLOSE;CHG;PCHG;VOTURNOVER\n",
    "```\n"
   ]
  },
  {
   "cell_type": "code",
   "execution_count": 26,
   "id": "5224990e",
   "metadata": {},
   "outputs": [
    {
     "data": {
      "text/html": [
       "\n",
       "        <iframe\n",
       "            width=\"100%\"\n",
       "            height=\"475\"\n",
       "            src=\"http://localhost:40000/dtale/iframe/13\"\n",
       "            frameborder=\"0\"\n",
       "            allowfullscreen\n",
       "            \n",
       "        ></iframe>\n",
       "        "
      ],
      "text/plain": [
       "<IPython.lib.display.IFrame at 0x7f0267940f40>"
      ]
     },
     "metadata": {},
     "output_type": "display_data"
    },
    {
     "data": {
      "text/plain": []
     },
     "execution_count": 26,
     "metadata": {},
     "output_type": "execute_result"
    }
   ],
   "source": [
    "import httpx\n",
    "import pandas as pd\n",
    "import dtale\n",
    "from io import StringIO \n",
    "\n",
    "url = \"http://quotes.money.163.com/service/chddata.html?code=0000001&start=20220101&end=20220723&fields=TCLOSE;HIGH;LOW;TOPEN;LCLOSE;CHG;PCHG;TURNOVER;VOTURNOVER;VATURNOVER;TCAP;MCAP\"\n",
    "r = httpx.get(url)\n",
    "r.encoding = 'gb18030'\n",
    "data = pd.read_csv(StringIO(r.text), index_col=0, parse_dates=[0])\n",
    "dtale.show(data)"
   ]
  },
  {
   "cell_type": "markdown",
   "id": "0d7c9f9a",
   "metadata": {},
   "source": [
    "## Souhu 数据接口\n",
    "\n",
    "搜狐数据接口：\n",
    "\n",
    "http://q.stock.sohu.com/hisHq?code={code}&start={start}&end={end}，{code}替换为股票代码，大陆股票代码加前缀cn_。{start}替换为起始日期，{end}替换为结束日期。\n",
    "\n",
    "\n",
    "例如：在浏览器地址栏输入：\n",
    "\n",
    "http://q.stock.sohu.com/hisHq?code=cn_601766,cn_000002&start=20150601&end=20160414\n",
    "\n",
    "数组中数据一次对应含义如下：\n",
    "\n",
    "日期,\n",
    "今日开盘价,\n",
    "今日收盘价,\n",
    "涨跌幅度，\n",
    "涨跌百分比,\n",
    "今日最低价,\n",
    "今日最高价，\n",
    "今日成交股票手数,\n",
    "今日成交金额(单位：万)，\n",
    "换手率"
   ]
  },
  {
   "cell_type": "code",
   "execution_count": 25,
   "id": "7d84d507",
   "metadata": {},
   "outputs": [
    {
     "data": {
      "text/html": [
       "\n",
       "        <iframe\n",
       "            width=\"100%\"\n",
       "            height=\"475\"\n",
       "            src=\"http://localhost:40000/dtale/iframe/12\"\n",
       "            frameborder=\"0\"\n",
       "            allowfullscreen\n",
       "            \n",
       "        ></iframe>\n",
       "        "
      ],
      "text/plain": [
       "<IPython.lib.display.IFrame at 0x7f0267902dc0>"
      ]
     },
     "metadata": {},
     "output_type": "display_data"
    },
    {
     "data": {
      "text/plain": []
     },
     "execution_count": 25,
     "metadata": {},
     "output_type": "execute_result"
    }
   ],
   "source": [
    "import json\n",
    "url = \"https://q.stock.sohu.com/hisHq?code=cn_600036&start=20220101&end=20220723\"\n",
    "r = httpx.get(url)\n",
    "data = json.loads(r.text)\n",
    "stock = data[0]['hq']\n",
    "df = pd.read_json(json.dumps(stock), orient=\"records\")\n",
    "df.columns = ['日期', '开盘价','收盘价','涨跌幅度', '涨跌百分比','最低价', '最高价', '成交股票手数', '成交金额(单位：万)', '换手率']\n",
    "\n",
    "df = df.set_index(\"日期\")\n",
    "df.index = pd.to_datetime(df.index)\n",
    "dtale.show(df)"
   ]
  },
  {
   "cell_type": "markdown",
   "id": "4a59761d",
   "metadata": {},
   "source": [
    "## 新浪财经基金净值数据\n",
    "\n",
    "url：\n",
    "\n",
    "http://stock.finance.sina.com.cn/fundInfo/api/openapi.php/CaihuiFundInfoService.getNav?symbol=040011&datefrom=20220101&dateto=20220723&page=1\n",
    "\n",
    "接口是分页的形式，需要遍历 page。\n",
    "\n",
    "```\n",
    "'日期' => 'fbrq',\n",
    "'单位净值（元）' => 'jjjz',\n",
    "'累计净值（元）' => 'ljjz',\n",
    "```"
   ]
  },
  {
   "cell_type": "code",
   "execution_count": 28,
   "id": "3803c77d",
   "metadata": {},
   "outputs": [
    {
     "name": "stdout",
     "output_type": "stream",
     "text": [
      "fetch url: http://stock.finance.sina.com.cn/fundInfo/api/openapi.php/CaihuiFundInfoService.getNav?symbol=040011&datefrom=20210101&dateto=20220723&page=1\n",
      "fetch url: http://stock.finance.sina.com.cn/fundInfo/api/openapi.php/CaihuiFundInfoService.getNav?symbol=040011&datefrom=20210101&dateto=20220723&page=2\n",
      "fetch url: http://stock.finance.sina.com.cn/fundInfo/api/openapi.php/CaihuiFundInfoService.getNav?symbol=040011&datefrom=20210101&dateto=20220723&page=3\n",
      "fetch url: http://stock.finance.sina.com.cn/fundInfo/api/openapi.php/CaihuiFundInfoService.getNav?symbol=040011&datefrom=20210101&dateto=20220723&page=4\n",
      "fetch url: http://stock.finance.sina.com.cn/fundInfo/api/openapi.php/CaihuiFundInfoService.getNav?symbol=040011&datefrom=20210101&dateto=20220723&page=5\n",
      "fetch url: http://stock.finance.sina.com.cn/fundInfo/api/openapi.php/CaihuiFundInfoService.getNav?symbol=040011&datefrom=20210101&dateto=20220723&page=6\n",
      "fetch url: http://stock.finance.sina.com.cn/fundInfo/api/openapi.php/CaihuiFundInfoService.getNav?symbol=040011&datefrom=20210101&dateto=20220723&page=7\n",
      "fetch url: http://stock.finance.sina.com.cn/fundInfo/api/openapi.php/CaihuiFundInfoService.getNav?symbol=040011&datefrom=20210101&dateto=20220723&page=8\n",
      "fetch url: http://stock.finance.sina.com.cn/fundInfo/api/openapi.php/CaihuiFundInfoService.getNav?symbol=040011&datefrom=20210101&dateto=20220723&page=9\n",
      "fetch url: http://stock.finance.sina.com.cn/fundInfo/api/openapi.php/CaihuiFundInfoService.getNav?symbol=040011&datefrom=20210101&dateto=20220723&page=10\n",
      "fetch url: http://stock.finance.sina.com.cn/fundInfo/api/openapi.php/CaihuiFundInfoService.getNav?symbol=040011&datefrom=20210101&dateto=20220723&page=11\n",
      "fetch url: http://stock.finance.sina.com.cn/fundInfo/api/openapi.php/CaihuiFundInfoService.getNav?symbol=040011&datefrom=20210101&dateto=20220723&page=12\n",
      "fetch url: http://stock.finance.sina.com.cn/fundInfo/api/openapi.php/CaihuiFundInfoService.getNav?symbol=040011&datefrom=20210101&dateto=20220723&page=13\n",
      "fetch url: http://stock.finance.sina.com.cn/fundInfo/api/openapi.php/CaihuiFundInfoService.getNav?symbol=040011&datefrom=20210101&dateto=20220723&page=14\n",
      "fetch url: http://stock.finance.sina.com.cn/fundInfo/api/openapi.php/CaihuiFundInfoService.getNav?symbol=040011&datefrom=20210101&dateto=20220723&page=15\n",
      "fetch url: http://stock.finance.sina.com.cn/fundInfo/api/openapi.php/CaihuiFundInfoService.getNav?symbol=040011&datefrom=20210101&dateto=20220723&page=16\n",
      "fetch url: http://stock.finance.sina.com.cn/fundInfo/api/openapi.php/CaihuiFundInfoService.getNav?symbol=040011&datefrom=20210101&dateto=20220723&page=17\n",
      "fetch url: http://stock.finance.sina.com.cn/fundInfo/api/openapi.php/CaihuiFundInfoService.getNav?symbol=040011&datefrom=20210101&dateto=20220723&page=18\n",
      "fetch url: http://stock.finance.sina.com.cn/fundInfo/api/openapi.php/CaihuiFundInfoService.getNav?symbol=040011&datefrom=20210101&dateto=20220723&page=19\n",
      "fetch url: http://stock.finance.sina.com.cn/fundInfo/api/openapi.php/CaihuiFundInfoService.getNav?symbol=040011&datefrom=20210101&dateto=20220723&page=20\n"
     ]
    },
    {
     "data": {
      "text/html": [
       "\n",
       "        <iframe\n",
       "            width=\"100%\"\n",
       "            height=\"475\"\n",
       "            src=\"http://localhost:40000/dtale/iframe/15\"\n",
       "            frameborder=\"0\"\n",
       "            allowfullscreen\n",
       "            \n",
       "        ></iframe>\n",
       "        "
      ],
      "text/plain": [
       "<IPython.lib.display.IFrame at 0x7f024b704eb0>"
      ]
     },
     "metadata": {},
     "output_type": "display_data"
    },
    {
     "data": {
      "text/plain": []
     },
     "execution_count": 28,
     "metadata": {},
     "output_type": "execute_result"
    }
   ],
   "source": [
    "page = 1\n",
    "total = pd.DataFrame([])\n",
    "\n",
    "while True:\n",
    "    url = f'http://stock.finance.sina.com.cn/fundInfo/api/openapi.php/CaihuiFundInfoService.getNav?symbol=040011&datefrom=20210101&dateto=20220723&page={page}'\n",
    "    print(f'fetch url: {url}')\n",
    "    r = httpx.get(url)\n",
    "    data = json.loads(r.text)\n",
    "    result = data[\"result\"][\"data\"]['data']\n",
    "    if (len(result) == 0):\n",
    "        break\n",
    "    df = pd.read_json(json.dumps(result), orient=\"records\")\n",
    "    total = pd.concat([total, df])\n",
    "    page = page + 1\n",
    "\n",
    "\n",
    "total.columns = ['日期', '单位净值（元）', '累计净值（元）']\n",
    "total = total.set_index('日期')\n",
    "total.index = pd.to_datetime(total.index)\n",
    "dtale.show(total)"
   ]
  }
 ],
 "metadata": {
  "kernelspec": {
   "display_name": "Python 3",
   "language": "python",
   "name": "python3"
  },
  "language_info": {
   "codemirror_mode": {
    "name": "ipython",
    "version": 3
   },
   "file_extension": ".py",
   "mimetype": "text/x-python",
   "name": "python",
   "nbconvert_exporter": "python",
   "pygments_lexer": "ipython3",
   "version": "3.9.12"
  }
 },
 "nbformat": 4,
 "nbformat_minor": 5
}
