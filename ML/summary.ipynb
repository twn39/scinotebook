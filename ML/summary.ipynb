{
 "cells": [
  {
   "cell_type": "markdown",
   "id": "27c724db-5882-4e7d-9995-8d1b3e67566f",
   "metadata": {},
   "source": [
    "### **分类变量编码选择表**\n",
    "\n",
    "| 模型 | 推荐方法 | 原因 | 代码示例 |\n",
    "|------|---------|------|---------|\n",
    "| **RandomForestRegressor** | ✅ One-Hot | 无 categorical_features 参数 | `pd.get_dummies()` |\n",
    "| **HistGradientBoostingRegressor** | ✅ OrdinalEncoder + categorical_features | 原生支持，性能最佳 | `categorical_features=[0]` |\n",
    "| **XGBoost** | ✅ LabelEncoder + enable_categorical | 需设置 enable_categorical=True | `enable_categorical=True` |\n",
    "| **LightGBM** | ✅ 原始字符串 | 自动识别 | 直接传入字符串列 |\n",
    "| **CatBoost** | ✅ 原始字符串 | 自动识别 | `cat_features=['col']` |\n",
    "| **线性模型** | ✅ One-Hot | 需要线性可分 | `pd.get_dummies()` |"
   ]
  },
  {
   "cell_type": "markdown",
   "id": "7e616224-add3-4ab5-920b-f30f1f1264d2",
   "metadata": {},
   "source": [
    "## 📊 1. 核心决策表：按数据集特征选择模型\n",
    "\n",
    "### **表1：数据集特征 → 推荐模型**\n",
    "\n",
    "| 数据集特征 | 样本量 | 特征类型 | 推荐模型（优先级排序） | 原因 |\n",
    "|-----------|--------|---------|---------------------|------|\n",
    "| **小数据集** | < 1,000 | 表格 | ① Ridge/Lasso ② RandomForest ③ SVM | 防止过拟合，需要强正则化 |\n",
    "| **中等数据集** | 1K-100K | 表格 | ① **XGBoost/LightGBM** ② HistGradientBoosting ③ RandomForest | 最佳平衡点，树模型占优 |\n",
    "| **大数据集** | 100K-1M | 表格 | ① **LightGBM** ② HistGradientBoosting ③ 神经网络 | 速度和性能兼顾 |\n",
    "| **超大数据集** | > 1M | 表格 | ① **LightGBM** ② 神经网络(FastAI) ③ 在线学习(SGD) | 需要内存效率和并行化 |\n",
    "| **高维稀疏** | 任意 | 稀疏特征 | ① **线性模型**(Ridge) ② LightGBM ③ 神经网络 | 避免维度灾难 |\n",
    "| **低维密集** | 任意 | < 20特征 | ① **Gradient Boosting** ② RandomForest | 充分利用特征交互 |\n",
    "| **时序数据** | 任意 | 时间序列 | ① **LSTM/GRU** ② XGBoost(lag特征) ③ ARIMA | 捕捉时间依赖 |\n",
    "| **图像/非结构化** | > 10K | 图像/文本 | ① **神经网络**(CNN/Transformer) ② 迁移学习 | 需要表示学习 |\n",
    "| **混合类型** | 任意 | 数值+分类 | ① **CatBoost** ② LightGBM ③ HistGradientBoosting | 原生支持分类变量 |\n",
    "\n",
    "---\n",
    "\n",
    "## 📈 2. 详细决策矩阵\n",
    "\n",
    "### **表2：数据特征 vs 模型性能矩阵**\n",
    "\n",
    "| 数据特征 | 线性模型 | RandomForest | XGBoost/LightGBM | HistGradientBoosting | 神经网络 | CatBoost |\n",
    "|---------|---------|--------------|------------------|---------------------|----------|---------|\n",
    "| **样本 < 1K** | ⭐⭐⭐⭐⭐ | ⭐⭐⭐ | ⭐⭐ | ⭐⭐ | ⭐ | ⭐⭐ |\n",
    "| **样本 1K-10K** | ⭐⭐⭐ | ⭐⭐⭐⭐ | ⭐⭐⭐⭐⭐ | ⭐⭐⭐⭐ | ⭐⭐ | ⭐⭐⭐⭐⭐ |\n",
    "| **样本 10K-100K** | ⭐⭐ | ⭐⭐⭐⭐ | ⭐⭐⭐⭐⭐ | ⭐⭐⭐⭐⭐ | ⭐⭐⭐ | ⭐⭐⭐⭐⭐ |\n",
    "| **样本 > 100K** | ⭐⭐ | ⭐⭐⭐ | ⭐⭐⭐⭐⭐ | ⭐⭐⭐⭐⭐ | ⭐⭐⭐⭐ | ⭐⭐⭐⭐ |\n",
    "| **高基数分类** | ⭐ | ⭐⭐ | ⭐⭐⭐ | ⭐⭐⭐ | ⭐⭐⭐⭐ | ⭐⭐⭐⭐⭐ |\n",
    "| **缺失值多** | ⭐ | ⭐⭐⭐ | ⭐⭐⭐⭐⭐ | ⭐⭐⭐⭐⭐ | ⭐⭐ | ⭐⭐⭐⭐⭐ |\n",
    "| **特征 < 10** | ⭐⭐⭐ | ⭐⭐⭐⭐ | ⭐⭐⭐⭐⭐ | ⭐⭐⭐⭐⭐ | ⭐⭐ | ⭐⭐⭐⭐⭐ |\n",
    "| **特征 > 100** | ⭐⭐⭐⭐ | ⭐⭐⭐ | ⭐⭐⭐⭐ | ⭐⭐⭐⭐ | ⭐⭐⭐⭐⭐ | ⭐⭐⭐ |\n",
    "| **特征稀疏** | ⭐⭐⭐⭐⭐ | ⭐⭐ | ⭐⭐⭐⭐ | ⭐⭐⭐ | ⭐⭐⭐⭐ | ⭐⭐⭐ |\n",
    "| **非线性强** | ⭐ | ⭐⭐⭐⭐ | ⭐⭐⭐⭐⭐ | ⭐⭐⭐⭐⭐ | ⭐⭐⭐⭐⭐ | ⭐⭐⭐⭐⭐ |\n",
    "| **噪声多** | ⭐⭐⭐⭐ | ⭐⭐⭐⭐ | ⭐⭐⭐ | ⭐⭐⭐ | ⭐⭐ | ⭐⭐⭐⭐ |\n",
    "| **需要可解释** | ⭐⭐⭐⭐⭐ | ⭐⭐⭐⭐ | ⭐⭐⭐ | ⭐⭐⭐ | ⭐ | ⭐⭐⭐ |\n",
    "| **训练速度要求** | ⭐⭐⭐⭐⭐ | ⭐⭐⭐ | ⭐⭐⭐⭐ | ⭐⭐⭐⭐⭐ | ⭐⭐ | ⭐⭐⭐ |\n",
    "\n",
    "---"
   ]
  },
  {
   "cell_type": "markdown",
   "id": "5e98d71d-b071-4aec-b428-76355ad94427",
   "metadata": {},
   "source": [
    "## 🔍 3. 不同场景最佳模型\n",
    "\n",
    "### **表3：应用场景 vs 推荐模型**\n",
    "\n",
    "| 应用场景 | 数据特点 | 首选模型 | 次选模型 | 理由 |\n",
    "|---------|---------|---------|---------|------|\n",
    "| **房价预测** | 2万样本，地理+数值 | LightGBM | XGBoost | 地理非线性强，样本量适中 |\n",
    "| **用户流失预测** | 10万样本，高基数分类 | CatBoost | LightGBM | 大量用户ID、行为类别 |\n",
    "| **销售预测** | 时序+季节性 | XGBoost(+lag) | LSTM | 时序特征工程后树模型足够 |\n",
    "| **信用评分** | 100万样本，需可解释 | LightGBM | Logistic | 大数据，需要SHAP解释 |\n",
    "| **推荐系统** | 千万级，稀疏特征 | 神经网络(Embedding) | LightGBM | 需要学习用户/物品表示 |\n",
    "| **异常检测** | 不平衡数据 | IsolationForest | XGBoost | 专门的异常检测算法 |\n",
    "| **图像回归** | 图像特征 | CNN | 迁移学习 | 空间结构信息 |\n",
    "| **文本情感分数** | 文本数据 | Transformer | LSTM | 需要语义理解 |\n",
    "| **生产线质量** | 小样本(<500) | Ridge/SVM | RandomForest | 防止过拟合 |\n",
    "| **实时预测** | 低延迟要求 | 线性模型 | LightGBM | 推理速度优先 |"
   ]
  },
  {
   "cell_type": "markdown",
   "id": "b149bba8-277c-4a69-b7f6-31ff01952d31",
   "metadata": {},
   "source": [
    "## 📐 4. 模型复杂度 vs 性能权衡\n",
    "\n",
    "### **表4：性能-复杂度-速度三角**\n",
    "\n",
    "| 模型 | 预测性能 | 训练速度 | 推理速度 | 调参难度 | 可解释性 | 综合评分 |\n",
    "|------|---------|---------|---------|---------|---------|---------|\n",
    "| **LightGBM** | ⭐⭐⭐⭐⭐ | ⭐⭐⭐⭐⭐ | ⭐⭐⭐⭐⭐ | ⭐⭐⭐ | ⭐⭐⭐ | **4.6** ✅ |\n",
    "| **XGBoost** | ⭐⭐⭐⭐⭐ | ⭐⭐⭐⭐ | ⭐⭐⭐⭐ | ⭐⭐⭐ | ⭐⭐⭐ | **4.4** |\n",
    "| **CatBoost** | ⭐⭐⭐⭐⭐ | ⭐⭐⭐ | ⭐⭐⭐⭐ | ⭐⭐⭐⭐ | ⭐⭐⭐⭐ | **4.4** |\n",
    "| **HistGradientBoosting** | ⭐⭐⭐⭐ | ⭐⭐⭐⭐⭐ | ⭐⭐⭐⭐⭐ | ⭐⭐⭐⭐⭐ | ⭐⭐⭐ | **4.4** |\n",
    "| **RandomForest** | ⭐⭐⭐⭐ | ⭐⭐⭐ | ⭐⭐⭐ | ⭐⭐⭐⭐⭐ | ⭐⭐⭐⭐ | **3.8** |\n",
    "| **GradientBoosting** | ⭐⭐⭐⭐ | ⭐⭐ | ⭐⭐⭐⭐ | ⭐⭐⭐ | ⭐⭐⭐ | **3.4** |\n",
    "| **神经网络** | ⭐⭐⭐ | ⭐⭐ | ⭐⭐⭐⭐ | ⭐⭐ | ⭐ | **2.8** |\n",
    "| **Ridge/Lasso** | ⭐⭐ | ⭐⭐⭐⭐⭐ | ⭐⭐⭐⭐⭐ | ⭐⭐⭐⭐⭐ | ⭐⭐⭐⭐⭐ | **4.2** |\n",
    "\n",
    "**评分说明**：\n",
    "- 预测性能：在表格数据上的准确度\n",
    "- 训练速度：达到收敛的时间\n",
    "- 推理速度：单条预测延迟\n",
    "- 调参难度：达到良好性能所需的调参工作量（越高越简单）\n",
    "- 可解释性：特征重要性、决策路径的可读性\n"
   ]
  },
  {
   "cell_type": "code",
   "execution_count": null,
   "id": "17d13312-385f-4368-8261-c2d1bd670bb8",
   "metadata": {},
   "outputs": [],
   "source": []
  }
 ],
 "metadata": {
  "kernelspec": {
   "display_name": "Python 3 (ipykernel)",
   "language": "python",
   "name": "python3"
  },
  "language_info": {
   "codemirror_mode": {
    "name": "ipython",
    "version": 3
   },
   "file_extension": ".py",
   "mimetype": "text/x-python",
   "name": "python",
   "nbconvert_exporter": "python",
   "pygments_lexer": "ipython3",
   "version": "3.11.9"
  }
 },
 "nbformat": 4,
 "nbformat_minor": 5
}
